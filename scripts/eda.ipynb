{
 "cells": [
  {
   "cell_type": "code",
   "execution_count": 5,
   "metadata": {},
   "outputs": [],
   "source": [
    "from ast import literal_eval\n",
    "\n",
    "import pandas as pd\n",
    "import numpy as np\n",
    "import joblib\n",
    "\n",
    "from sklearn.linear_model import LinearRegression\n",
    "from sklearn.model_selection import train_test_split\n",
    "from sklearn.metrics import mean_squared_error\n",
    "\n",
    "import funciones_auxiliares as fa\n"
   ]
  },
  {
   "cell_type": "code",
   "execution_count": 6,
   "metadata": {},
   "outputs": [],
   "source": [
    "rows = []\n",
    "with open(\"../dataset/steam_games.json\") as f:\n",
    "    for line in f.readlines():\n",
    "        rows.append(literal_eval(line))\n",
    "\n",
    "df = pd.DataFrame(rows)"
   ]
  },
  {
   "cell_type": "code",
   "execution_count": 7,
   "metadata": {},
   "outputs": [
    {
     "data": {
      "text/plain": [
       "Index(['publisher', 'genres', 'app_name', 'title', 'url', 'release_date',\n",
       "       'tags', 'discount_price', 'reviews_url', 'specs', 'price',\n",
       "       'early_access', 'id', 'developer', 'sentiment', 'metascore'],\n",
       "      dtype='object')"
      ]
     },
     "execution_count": 7,
     "metadata": {},
     "output_type": "execute_result"
    }
   ],
   "source": [
    "df.columns"
   ]
  },
  {
   "cell_type": "code",
   "execution_count": 8,
   "metadata": {},
   "outputs": [
    {
     "name": "stdout",
     "output_type": "stream",
     "text": [
      "<class 'pandas.core.frame.DataFrame'>\n",
      "RangeIndex: 32135 entries, 0 to 32134\n",
      "Data columns (total 3 columns):\n",
      " #   Column        Non-Null Count  Dtype \n",
      "---  ------        --------------  ----- \n",
      " 0   genres        28852 non-null  object\n",
      " 1   early_access  32135 non-null  bool  \n",
      " 2   price         30758 non-null  object\n",
      "dtypes: bool(1), object(2)\n",
      "memory usage: 533.6+ KB\n"
     ]
    }
   ],
   "source": [
    "# me quedo con las columnas que me interasan para le modelo\n",
    "df_predict = df[[\"genres\",\"early_access\",\"price\"]]\n",
    "df_predict.info()"
   ]
  },
  {
   "cell_type": "code",
   "execution_count": 9,
   "metadata": {},
   "outputs": [
    {
     "name": "stdout",
     "output_type": "stream",
     "text": [
      "Generos nulos: 3283\n",
      "Early access nulos 0\n",
      "Precios nulos 1377\n"
     ]
    }
   ],
   "source": [
    "# viendo los nulos\n",
    "print(\"Generos nulos:\",df_predict[\"genres\"].isna().sum())\n",
    "print(\"Early access nulos\",df_predict[\"early_access\"].isna().sum())\n",
    "print(\"Precios nulos\",df_predict[\"price\"].isna().sum())"
   ]
  },
  {
   "cell_type": "code",
   "execution_count": 10,
   "metadata": {},
   "outputs": [
    {
     "name": "stdout",
     "output_type": "stream",
     "text": [
      "Hay 23 generos distintos\n"
     ]
    }
   ],
   "source": [
    "generos = list(df_predict[\"genres\"])\n",
    "generos =  fa.aplanar_lista(generos)\n",
    "generos_set = set(generos)\n",
    "print(f\"Hay {len(generos_set)} generos distintos\")"
   ]
  },
  {
   "cell_type": "code",
   "execution_count": 11,
   "metadata": {},
   "outputs": [
    {
     "name": "stderr",
     "output_type": "stream",
     "text": [
      "C:\\Users\\Lucas\\AppData\\Local\\Temp\\ipykernel_15780\\4008140405.py:2: SettingWithCopyWarning: \n",
      "A value is trying to be set on a copy of a slice from a DataFrame.\n",
      "Try using .loc[row_indexer,col_indexer] = value instead\n",
      "\n",
      "See the caveats in the documentation: https://pandas.pydata.org/pandas-docs/stable/user_guide/indexing.html#returning-a-view-versus-a-copy\n",
      "  df_predict[\"price\"] = df_predict[\"price\"].apply(lambda x: 0 if isinstance(x, str) else x)\n",
      "C:\\Users\\Lucas\\AppData\\Local\\Temp\\ipykernel_15780\\4008140405.py:4: SettingWithCopyWarning: \n",
      "A value is trying to be set on a copy of a slice from a DataFrame\n",
      "\n",
      "See the caveats in the documentation: https://pandas.pydata.org/pandas-docs/stable/user_guide/indexing.html#returning-a-view-versus-a-copy\n",
      "  df_predict.dropna(subset=[\"price\"],inplace=True)\n"
     ]
    }
   ],
   "source": [
    "# Dejamos en 0 los valores que contengan un string en la columna precio\n",
    "df_predict[\"price\"] = df_predict[\"price\"].apply(lambda x: 0 if isinstance(x, str) else x)\n",
    "\n",
    "df_predict.dropna(subset=[\"price\"],inplace=True)\n",
    "\n",
    "\n",
    "#df_predict['price'] = df_predict[\"price\"].apply(lambda x: float(x) if isinstance(x, (int, float)) else float('nan'))\n",
    "#df_predict[\"price\"].astype(\"float\")\n",
    "#df_predict[\"price\"].dropna(inplace=True)"
   ]
  },
  {
   "cell_type": "code",
   "execution_count": 12,
   "metadata": {},
   "outputs": [
    {
     "name": "stderr",
     "output_type": "stream",
     "text": [
      "C:\\Users\\Lucas\\AppData\\Local\\Temp\\ipykernel_15780\\1149971232.py:3: SettingWithCopyWarning: \n",
      "A value is trying to be set on a copy of a slice from a DataFrame\n",
      "\n",
      "See the caveats in the documentation: https://pandas.pydata.org/pandas-docs/stable/user_guide/indexing.html#returning-a-view-versus-a-copy\n",
      "  df_predict[\"price\"].fillna(precio_medio,inplace=True)\n"
     ]
    },
    {
     "data": {
      "text/plain": [
       "count    30758.000000\n",
       "mean         8.866855\n",
       "std         15.903457\n",
       "min          0.000000\n",
       "25%          2.990000\n",
       "50%          4.990000\n",
       "75%          9.990000\n",
       "max        995.000000\n",
       "Name: price, dtype: float64"
      ]
     },
     "execution_count": 12,
     "metadata": {},
     "output_type": "execute_result"
    }
   ],
   "source": [
    "# Rellenamos los nulos de la columna con el promedio.\n",
    "precio_medio = df_predict[\"price\"].mean()\n",
    "df_predict[\"price\"].fillna(precio_medio,inplace=True)\n",
    "df_predict[\"price\"].describe()"
   ]
  },
  {
   "cell_type": "code",
   "execution_count": 13,
   "metadata": {},
   "outputs": [],
   "source": [
    "# Debido a que el estandar en la industria el precio maximo de un videojuego es de 60 dolares, descartamos los valores por encima de este\n",
    "filtro_outliers = df_predict[\"price\"] <= 60\n",
    "df_predict = df_predict[filtro_outliers]"
   ]
  },
  {
   "cell_type": "code",
   "execution_count": 14,
   "metadata": {},
   "outputs": [],
   "source": [
    "# Transformación del género utilizando one-hot enconder\n",
    "generos_dummies = df_predict[\"genres\"].str.join(\",\").str.get_dummies(sep=\",\")\n",
    "df_predict= pd.concat([df_predict, generos_dummies], axis=1)"
   ]
  },
  {
   "cell_type": "code",
   "execution_count": 15,
   "metadata": {},
   "outputs": [
    {
     "data": {
      "text/plain": [
       "Index(['early_access', 'price', 'Accounting', 'Action', 'Adventure',\n",
       "       'Animation &amp; Modeling', 'Audio Production', 'Casual',\n",
       "       'Design &amp; Illustration', 'Education', 'Free to Play', 'Indie',\n",
       "       'Massively Multiplayer', 'Photo Editing', 'RPG', 'Racing', 'Simulation',\n",
       "       'Software Training', 'Sports', 'Strategy', 'Utilities',\n",
       "       'Video Production', 'Web Publishing'],\n",
       "      dtype='object')"
      ]
     },
     "execution_count": 15,
     "metadata": {},
     "output_type": "execute_result"
    }
   ],
   "source": [
    "# Eliminamos columnas innecesarias\n",
    "df_predict.drop(columns=[\"genres\"],inplace=True)\n",
    "df_predict.drop(columns=[\"Early Access\"],inplace=True)\n",
    "df_predict.columns"
   ]
  },
  {
   "cell_type": "code",
   "execution_count": 16,
   "metadata": {},
   "outputs": [
    {
     "data": {
      "text/plain": [
       "Index(['early_access', 'price', 'Accounting', 'Action', 'Adventure',\n",
       "       'Animation and Modeling', 'Audio Production', 'Casual',\n",
       "       'Design and Illustration', 'Education', 'Free to Play', 'Indie',\n",
       "       'Massively Multiplayer', 'Photo Editing', 'RPG', 'Racing', 'Simulation',\n",
       "       'Software Training', 'Sports', 'Strategy', 'Utilities',\n",
       "       'Video Production', 'Web Publishing'],\n",
       "      dtype='object')"
      ]
     },
     "execution_count": 16,
     "metadata": {},
     "output_type": "execute_result"
    }
   ],
   "source": [
    "# Corregimos nombres de columnas\n",
    "df_predict.rename(columns={\"Animation &amp; Modeling\":\"Animation and Modeling\",\"Design &amp; Illustration\":\"Design and Illustration\"}, inplace=True)\n",
    "df_predict.columns"
   ]
  },
  {
   "cell_type": "code",
   "execution_count": 17,
   "metadata": {},
   "outputs": [],
   "source": [
    "X = df_predict.drop(columns=['price'])\n",
    "y = df_predict[\"price\"]\n",
    "\n",
    "X_train, X_test, y_train, y_test = train_test_split(X, y, test_size=0.2, random_state=42)"
   ]
  },
  {
   "cell_type": "code",
   "execution_count": 18,
   "metadata": {},
   "outputs": [],
   "source": [
    "# Instanciamos el modelo\n",
    "model = LinearRegression()"
   ]
  },
  {
   "cell_type": "code",
   "execution_count": 19,
   "metadata": {},
   "outputs": [],
   "source": [
    "# Entrenamos el modelo\n",
    "model.fit(X_train,y_train)\n",
    "y_pred = model.predict(X_test)\n"
   ]
  },
  {
   "cell_type": "code",
   "execution_count": 20,
   "metadata": {},
   "outputs": [
    {
     "name": "stdout",
     "output_type": "stream",
     "text": [
      "RMSE: 8.424571637950317\n"
     ]
    }
   ],
   "source": [
    "# Calculamos el error cuadratico medio para medir nuestro modelo\n",
    "rmse = np.sqrt(mean_squared_error(y_test, y_pred))\n",
    "print(\"RMSE:\", rmse) \n",
    "# 8.424571637950317"
   ]
  },
  {
   "cell_type": "code",
   "execution_count": 21,
   "metadata": {},
   "outputs": [
    {
     "data": {
      "text/plain": [
       "['modelo_precio_videojuego.pkl']"
      ]
     },
     "execution_count": 21,
     "metadata": {},
     "output_type": "execute_result"
    }
   ],
   "source": [
    "# Exportamos el modelo\n",
    "joblib.dump(model,\"modelo_precio_videojuego.pkl\")"
   ]
  }
 ],
 "metadata": {
  "kernelspec": {
   "display_name": "data",
   "language": "python",
   "name": "python3"
  },
  "language_info": {
   "codemirror_mode": {
    "name": "ipython",
    "version": 3
   },
   "file_extension": ".py",
   "mimetype": "text/x-python",
   "name": "python",
   "nbconvert_exporter": "python",
   "pygments_lexer": "ipython3",
   "version": "3.11.3"
  },
  "orig_nbformat": 4
 },
 "nbformat": 4,
 "nbformat_minor": 2
}
